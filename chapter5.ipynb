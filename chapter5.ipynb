{
 "cells": [
  {
   "cell_type": "markdown",
   "metadata": {},
   "source": [
    "### 第5章: 係り受け解析\n",
    "日本語Wikipediaの「人工知能」に関する記事からテキスト部分を抜き出したファイルがai.ja.zipに収録されている． この文章をCaboChaやKNP等のツールを利用して係り受け解析を行い，その結果をai.ja.txt.parsedというファイルに保存せよ．このファイルを読み込み，以下の問に対応するプログラムを実装せよ．"
   ]
  },
  {
   "cell_type": "code",
   "execution_count": 4,
   "metadata": {},
   "outputs": [
    {
     "name": "stdout",
     "output_type": "stream",
     "text": [
      "--2023-11-25 14:23:38--  https://nlp100.github.io/data/ai.ja.zip\n",
      "Resolving nlp100.github.io (nlp100.github.io)... 185.199.111.153, 185.199.110.153, 185.199.108.153, ...\n",
      "Connecting to nlp100.github.io (nlp100.github.io)|185.199.111.153|:443... connected.\n",
      "HTTP request sent, awaiting response... 200 OK\n",
      "Length: 17516 (17K) [application/zip]\n",
      "Saving to: ‘./data/chapter5/ai.ja.zip’\n",
      "\n",
      "./data/chapter5/ai. 100%[===================>]  17.11K  --.-KB/s    in 0.002s  \n",
      "\n",
      "2023-11-25 14:23:38 (6.95 MB/s) - ‘./data/chapter5/ai.ja.zip’ saved [17516/17516]\n",
      "\n",
      "Archive:  ./data/chapter5/ai.ja.zip\n",
      "  inflating: ./data/chapter5/ai.ja.txt  \n",
      "  inflating: ./data/chapter5/readme.ai.ja.md  \n"
     ]
    }
   ],
   "source": [
    "!mkdir -p data/chapter5 && wget -O ./data/chapter5/ai.ja.zip https://nlp100.github.io/data/ai.ja.zip\n",
    "!unzip ./data/chapter5/ai.ja.zip -d ./data/chapter5"
   ]
  },
  {
   "cell_type": "markdown",
   "metadata": {},
   "source": []
  },
  {
   "cell_type": "code",
   "execution_count": null,
   "metadata": {},
   "outputs": [],
   "source": []
  }
 ],
 "metadata": {
  "kernelspec": {
   "display_name": "base",
   "language": "python",
   "name": "python3"
  },
  "language_info": {
   "codemirror_mode": {
    "name": "ipython",
    "version": 3
   },
   "file_extension": ".py",
   "mimetype": "text/x-python",
   "name": "python",
   "nbconvert_exporter": "python",
   "pygments_lexer": "ipython3",
   "version": "3.11.5"
  }
 },
 "nbformat": 4,
 "nbformat_minor": 2
}
