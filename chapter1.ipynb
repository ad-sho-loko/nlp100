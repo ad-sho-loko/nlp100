{
 "cells": [
  {
   "cell_type": "code",
   "execution_count": null,
   "metadata": {},
   "outputs": [],
   "source": [
    "## Chapter 1: 準備運動\n",
    "## https://nlp100.github.io/ja/ch01.html"
   ]
  },
  {
   "cell_type": "markdown",
   "metadata": {},
   "source": [
    "### 00. 文字列の逆順\n",
    "文字列”stressed”の文字を逆に（末尾から先頭に向かって）並べた文字列を得よ．\n",
    "\n"
   ]
  },
  {
   "cell_type": "code",
   "execution_count": 1,
   "metadata": {},
   "outputs": [
    {
     "data": {
      "text/plain": [
       "'desserts'"
      ]
     },
     "execution_count": 1,
     "metadata": {},
     "output_type": "execute_result"
    }
   ],
   "source": [
    "'stressed'[::-1]"
   ]
  },
  {
   "cell_type": "markdown",
   "metadata": {},
   "source": [
    "### 01. 「パタトクカシーー」\n",
    "「パタトクカシーー」という文字列の1,3,5,7文字目を取り出して連結した文字列を得よ．"
   ]
  },
  {
   "cell_type": "code",
   "execution_count": 3,
   "metadata": {},
   "outputs": [
    {
     "data": {
      "text/plain": [
       "'パトカー'"
      ]
     },
     "execution_count": 3,
     "metadata": {},
     "output_type": "execute_result"
    }
   ],
   "source": [
    "'パタトクカシーー'[::2]"
   ]
  },
  {
   "cell_type": "markdown",
   "metadata": {},
   "source": [
    "### 02. 「パトカー」＋「タクシー」＝「パタトクカシーー」\n",
    "「パトカー」＋「タクシー」の文字を先頭から交互に連結して文字列「パタトクカシーー」を得よ．"
   ]
  },
  {
   "cell_type": "code",
   "execution_count": 7,
   "metadata": {},
   "outputs": [
    {
     "data": {
      "text/plain": [
       "'パタトクカシーー'"
      ]
     },
     "execution_count": 7,
     "metadata": {},
     "output_type": "execute_result"
    }
   ],
   "source": [
    "''.join([a + b for a, b in zip('パトカー', 'タクシー')])"
   ]
  },
  {
   "cell_type": "markdown",
   "metadata": {},
   "source": [
    "###  03. 円周率\n",
    "“Now I need a drink, alcoholic of course, after the heavy lectures involving quantum mechanics.”という文を単語に分解し，各単語の（アルファベットの）文字数を先頭から出現順に並べたリストを作成せよ．\n",
    "\n",
    "\n"
   ]
  },
  {
   "cell_type": "code",
   "execution_count": 23,
   "metadata": {},
   "outputs": [
    {
     "name": "stdout",
     "output_type": "stream",
     "text": [
      "['alcoholic', 'involving', 'mechanics', 'lectures', 'course,', 'quantum', 'drink,', 'after', 'heavy', 'need', 'Now', 'the', 'of', 'I', 'a']\n"
     ]
    }
   ],
   "source": [
    "sentence = \"Now I need a drink, alcoholic of course, after the heavy lectures involving quantum mechanics.\"\n",
    "sorted_sentence = sorted(sentence.strip(\".,\").split(\" \"), key=len, reverse=True)\n",
    "print(sorted_sentence)"
   ]
  },
  {
   "cell_type": "code",
   "execution_count": 22,
   "metadata": {},
   "outputs": [
    {
     "name": "stdout",
     "output_type": "stream",
     "text": [
      "{'H': 1, 'He': 2, 'Li': 3, 'Be': 4, 'B': 5, 'C': 6, 'N': 7, 'O': 8, 'F': 9, 'Ne': 10, 'Na': 11, 'Mi': 12, 'Al': 13, 'Si': 14, 'P': 15, 'S': 16, 'Cl': 17, 'Ar': 18, 'K': 19, 'Ca': 20}\n"
     ]
    }
   ],
   "source": [
    "\n",
    "# 04. 元素記号\n",
    "sentence = \"Hi He Lied Because Boron Could Not Oxidize Fluorine. New Nations Might Also Sign Peace Security Clause. Arthur King Can.\"\n",
    "sentences = sentence.strip(\".,\").split()\n",
    "pick_first_idx = set([1, 5, 6, 7, 8, 9, 15, 16, 19])\n",
    "\n",
    "ans = {}\n",
    "for i, s in enumerate(sentences):\n",
    "    if i+1 in pick_first_idx:\n",
    "        ans[s[:1]] = i + 1\n",
    "    else:\n",
    "        ans[s[:2]] = i +1\n",
    "\n",
    "print(ans)"
   ]
  },
  {
   "cell_type": "markdown",
   "metadata": {},
   "source": [
    "### 05. n-gram\n",
    "与えられたシーケンス（文字列やリストなど）からn-gramを作る関数を作成せよ．この関数を用い，”I am an NLPer”という文から単語bi-gram，文字bi-gramを得よ．\n",
    "\n"
   ]
  },
  {
   "cell_type": "code",
   "execution_count": 26,
   "metadata": {},
   "outputs": [
    {
     "name": "stdout",
     "output_type": "stream",
     "text": [
      "文字bi-gram\n",
      "['I am an NLPer', ' am an NLPer']\n",
      "[('I', ' '), (' ', 'a'), ('a', 'm'), ('m', ' '), (' ', 'a'), ('a', 'n'), ('n', ' '), (' ', 'N'), ('N', 'L'), ('L', 'P'), ('P', 'e'), ('e', 'r')]\n",
      "単語bi-gram\n",
      "[['I', 'am', 'an', 'NLPer'], ['am', 'an', 'NLPer']]\n",
      "[('I', 'am'), ('am', 'an'), ('an', 'NLPer')]\n"
     ]
    }
   ],
   "source": [
    "def nGram(n:int, s):\n",
    "    print(list(zip(*[s[i:] for i in range(n)])))\n",
    "\n",
    "sentence = \"I am an NLPer\"\n",
    "\n",
    "print(\"文字bi-gram\")\n",
    "nGram(2, sentence)\n",
    "\n",
    "print(\"単語bi-gram\")\n",
    "nGram(2, sentence.split(' '))"
   ]
  },
  {
   "cell_type": "markdown",
   "metadata": {},
   "source": [
    "### 06. 集合\n",
    "“paraparaparadise”と”paragraph”に含まれる文字bi-gramの集合を，それぞれ, XとYとして求め，XとYの和集合，積集合，差集合を求めよ．さらに，’se’というbi-gramがXおよびYに含まれるかどうかを調べよ．\n",
    "\n"
   ]
  },
  {
   "cell_type": "code",
   "execution_count": 3,
   "metadata": {},
   "outputs": [
    {
     "name": "stdout",
     "output_type": "stream",
     "text": [
      "和 {('a', 'p'), ('r', 'a'), ('d', 'i'), ('p', 'a'), ('g', 'r'), ('a', 'g'), ('a', 'd'), ('i', 's'), ('p', 'h'), ('a', 'r'), ('s', 'e')}\n",
      "差 {('d', 'i'), ('i', 's'), ('s', 'e'), ('a', 'd')}\n",
      "積 {('p', 'a'), ('a', 'p'), ('a', 'r'), ('r', 'a')}\n",
      "Xにseが含まれるか: True\n",
      "Yにseが含まれるか: False\n"
     ]
    }
   ],
   "source": [
    "def nGram(n:int, s) -> list[str]:\n",
    "    return list(zip(*[s[i:] for i in range(n)]))\n",
    "\n",
    "X = set(nGram(2, 'paraparaparadise'))\n",
    "Y = set(nGram(2, 'paragraph'))\n",
    "\n",
    "print('和', X|Y)\n",
    "print('差', X-Y)\n",
    "print('積', X&Y)\n",
    "print('Xにseが含まれるか:', ('s', 'e') in X)\n",
    "print('Yにseが含まれるか:', {('s', 'e')} <= Y)\n",
    "\n"
   ]
  },
  {
   "cell_type": "markdown",
   "metadata": {},
   "source": [
    "### 07. テンプレートによる文生成Permalink\n",
    "\n",
    "引数x, y, zを受け取り「x時のyはz」という文字列を返す関数を実装せよ．さらに，x=12, y=”気温”, z=22.4として，実行結果を確認せよ．"
   ]
  },
  {
   "cell_type": "code",
   "execution_count": 38,
   "metadata": {},
   "outputs": [
    {
     "name": "stdout",
     "output_type": "stream",
     "text": [
      "12時の気温は22.4\n"
     ]
    }
   ],
   "source": [
    "def template(x, y, z) -> str:\n",
    "    return f'{x}時の{y}は{z}'\n",
    "\n",
    "print(template(12,\"気温\",22.4))"
   ]
  },
  {
   "cell_type": "markdown",
   "metadata": {},
   "source": [
    "### 08. 暗号文\n",
    "与えられた文字列の各文字を，以下の仕様で変換する関数cipherを実装せよ．\n",
    "\n",
    "- 英小文字ならば(219 - 文字コード)の文字に置換\n",
    "- その他の文字はそのまま出力\n",
    "\n",
    "この関数を用い，英語のメッセージを暗号化・復号化せよ．"
   ]
  },
  {
   "cell_type": "code",
   "execution_count": 1,
   "metadata": {},
   "outputs": [
    {
     "name": "stdout",
     "output_type": "stream",
     "text": [
      "HE eamsk BROWN FOX laifc OVER THE LAZY DOG\n",
      "HE quick BROWN FOX jumps OVER THE LAZY DOG\n"
     ]
    }
   ],
   "source": [
    "def cipher(s: str) -> str:\n",
    "    return ''.join([chr(214-ord(ch)) if ch.islower() else ch for ch in s])\n",
    "\n",
    "s = 'HE quick BROWN FOX jumps OVER THE LAZY DOG'\n",
    "print(cipher(s))\n",
    "print(cipher(cipher(s)))"
   ]
  },
  {
   "cell_type": "markdown",
   "metadata": {},
   "source": [
    "### 09. Typoglycemia\n",
    "スペースで区切られた単語列に対して，各単語の先頭と末尾の文字は残し，それ以外の文字の順序をランダムに並び替えるプログラムを作成せよ．ただし，長さが４以下の単語は並び替えないこととする．適当な英語の文（例えば”I couldn’t believe that I could actually understand what I was reading : the phenomenal power of the human mind .”）を与え，その実行結果を確認せよ．\n",
    "\n"
   ]
  },
  {
   "cell_type": "code",
   "execution_count": 4,
   "metadata": {},
   "outputs": [
    {
     "name": "stdout",
     "output_type": "stream",
     "text": [
      "I c'lodnut blievee that I culod atclaluy ueanrdtnsd what I was radnieg : the pehmeaonnl pwoer of the haumn mind .\n"
     ]
    }
   ],
   "source": [
    "import random\n",
    "\n",
    "def shuffle(words):\n",
    "  res = []\n",
    "  for word in words.split():\n",
    "    if len(word) > 4:\n",
    "      word = word[:1] + ''.join(random.sample(word[1:-1], len(word) - 2)) + word[-1:]\n",
    "    res.append(word)\n",
    "\n",
    "  return ' '.join(res)\n",
    "\n",
    "words = \"I couldn't believe that I could actually understand what I was reading : the phenomenal power of the human mind .\"\n",
    "ans = shuffle(words)\n",
    "print(ans)"
   ]
  }
 ],
 "metadata": {
  "kernelspec": {
   "display_name": "Python 3 (ipykernel)",
   "language": "python",
   "name": "python3"
  },
  "language_info": {
   "codemirror_mode": {
    "name": "ipython",
    "version": 3
   },
   "file_extension": ".py",
   "mimetype": "text/x-python",
   "name": "python",
   "nbconvert_exporter": "python",
   "pygments_lexer": "ipython3",
   "version": "3.11.5"
  }
 },
 "nbformat": 4,
 "nbformat_minor": 5
}
