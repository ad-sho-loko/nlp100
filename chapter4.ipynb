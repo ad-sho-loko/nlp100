{
 "cells": [
  {
   "cell_type": "markdown",
   "metadata": {},
   "source": [
    "### 第4章: 形態素解析\n",
    "\n",
    "夏目漱石の小説『吾輩は猫である』の文章（neko.txt）をMeCabを使って形態素解析し，その結果をneko.txt.mecabというファイルに保存せよ．このファイルを用いて，以下の問に対応するプログラムを実装せよ．\n",
    "なお，問題37, 38, 39はmatplotlibもしくはGnuplotを用いるとよい．"
   ]
  },
  {
   "cell_type": "code",
   "execution_count": 2,
   "metadata": {},
   "outputs": [
    {
     "name": "stdout",
     "output_type": "stream",
     "text": [
      "Hit:1 http://deb.debian.org/debian bullseye InRelease\n",
      "Hit:2 http://deb.debian.org/debian-security bullseye-security InRelease\n",
      "Hit:3 http://deb.debian.org/debian bullseye-updates InRelease\n",
      "Hit:4 https://dl.yarnpkg.com/debian stable InRelease\n",
      "Reading package lists... Done                   \n",
      "Reading package lists... Done\n",
      "Building dependency tree... Done\n",
      "Reading state information... Done\n",
      "libmecab-dev is already the newest version (0.996-14+b4).\n",
      "mecab is already the newest version (0.996-14+b4).\n",
      "mecab-ipadic-utf8 is already the newest version (2.7.0-20070801+main-3).\n",
      "0 upgraded, 0 newly installed, 0 to remove and 0 not upgraded.\n",
      "--2023-11-24 20:44:37--  https://nlp100.github.io/data/neko.txt\n",
      "Resolving nlp100.github.io (nlp100.github.io)... 185.199.110.153, 185.199.111.153, 185.199.108.153, ...\n",
      "Connecting to nlp100.github.io (nlp100.github.io)|185.199.110.153|:443... connected.\n",
      "HTTP request sent, awaiting response... 200 OK\n",
      "Length: 975789 (953K) [text/plain]\n",
      "Saving to: ‘./data/chapter4/neko.txt’\n",
      "\n",
      "./data/chapter4/nek 100%[===================>] 952.92K  --.-KB/s    in 0.04s   \n",
      "\n",
      "2023-11-24 20:44:37 (21.4 MB/s) - ‘./data/chapter4/neko.txt’ saved [975789/975789]\n",
      "\n"
     ]
    }
   ],
   "source": [
    "!sudo apt-get update && sudo apt install -y libmecab-dev mecab mecab-ipadic-utf8 \n",
    "!mkdir -p data/chapter4 && wget -O ./data/chapter4/neko.txt https://nlp100.github.io/data/neko.txt\n",
    "!cat data/chapter4/neko.txt | mecab > ./data/chapter4/neko.txt.mecab"
   ]
  },
  {
   "cell_type": "markdown",
   "metadata": {},
   "source": [
    "### 30. 形態素解析結果の読み込み\n",
    "形態素解析結果（neko.txt.mecab）を読み込むプログラムを実装せよ．ただし，各形態素は表層形（surface），基本形（base），品詞（pos），品詞細分類1（pos1）をキーとするマッピング型に格納し，1文を形態素（マッピング型）のリストとして表現せよ．第4章の残りの問題では，ここで作ったプログラムを活用せよ．\n",
    "\n"
   ]
  },
  {
   "cell_type": "code",
   "execution_count": null,
   "metadata": {},
   "outputs": [],
   "source": []
  }
 ],
 "metadata": {
  "kernelspec": {
   "display_name": "base",
   "language": "python",
   "name": "python3"
  },
  "language_info": {
   "codemirror_mode": {
    "name": "ipython",
    "version": 3
   },
   "file_extension": ".py",
   "mimetype": "text/x-python",
   "name": "python",
   "nbconvert_exporter": "python",
   "pygments_lexer": "ipython3",
   "version": "3.11.5"
  }
 },
 "nbformat": 4,
 "nbformat_minor": 2
}
