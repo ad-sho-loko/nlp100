{
 "cells": [
  {
   "cell_type": "markdown",
   "metadata": {},
   "source": [
    "### 第3章: 正規表現\n",
    "Wikipediaの記事を以下のフォーマットで書き出したファイルjawiki-country.json.gzがある．\n",
    "\n",
    "1行に1記事の情報がJSON形式で格納される 各行には記事名が”title”キーに，記事本文が”text”キーの辞書オブジェクトに格納され，そのオブジェクトがJSON形式で書き出される ファイル全体はgzipで圧縮される 以下の処理を行うプログラムを作成せよ．"
   ]
  },
  {
   "cell_type": "code",
   "execution_count": 4,
   "metadata": {},
   "outputs": [
    {
     "name": "stdout",
     "output_type": "stream",
     "text": [
      "--2023-11-23 10:44:44--  https://nlp100.github.io/data/jawiki-country.json.gz\n",
      "Resolving nlp100.github.io (nlp100.github.io)... 185.199.109.153, 185.199.108.153, 185.199.110.153, ...\n",
      "Connecting to nlp100.github.io (nlp100.github.io)|185.199.109.153|:443... connected.\n",
      "HTTP request sent, awaiting response... 200 OK\n",
      "Length: 5068362 (4.8M) [application/gzip]\n",
      "Saving to: ‘data/chapter3/jawiki-country.json.gz’\n",
      "\n",
      "jawiki-country.json 100%[===================>]   4.83M  2.76MB/s    in 1.8s    \n",
      "\n",
      "2023-11-23 10:44:46 (2.76 MB/s) - ‘data/chapter3/jawiki-country.json.gz’ saved [5068362/5068362]\n",
      "\n"
     ]
    }
   ],
   "source": [
    "!mkdir -p data/chapter3 && wget -P data/chapter3/ https://nlp100.github.io/data/jawiki-country.json.gz\n",
    "!gunzip data/chapter3/jawiki-country.json.gz"
   ]
  },
  {
   "cell_type": "markdown",
   "metadata": {},
   "source": [
    "## 20. JSONデータの読み込み\n",
    "Wikipedia記事のJSONファイルを読み込み，「イギリス」に関する記事本文を表示せよ．問題21-29では，ここで抽出した記事本文に対して実行せよ．"
   ]
  },
  {
   "cell_type": "code",
   "execution_count": 10,
   "metadata": {},
   "outputs": [],
   "source": [
    "!cat data/chapter3/jawiki-country.json | jq 'select(.title==\"イギリス\")'  | jq '.text' | sed -e 's/\\\\n/\\n/g' > data/chapter3/20.out"
   ]
  },
  {
   "cell_type": "markdown",
   "metadata": {},
   "source": [
    "### 21. カテゴリ名を含む行を抽出\n",
    "記事中でカテゴリ名を宣言している行を抽出せよ．"
   ]
  },
  {
   "cell_type": "code",
   "execution_count": 11,
   "metadata": {},
   "outputs": [
    {
     "name": "stdout",
     "output_type": "stream",
     "text": [
      "[[Category:イギリス|*]]\n",
      "[[Category:イギリス連邦加盟国]]\n",
      "[[Category:英連邦王国|*]]\n",
      "[[Category:G8加盟国]]\n",
      "[[Category:欧州連合加盟国|元]]\n",
      "[[Category:海洋国家]]\n",
      "[[Category:現存する君主国]]\n",
      "[[Category:島国]]\n",
      "[[Category:1801年に成立した国家・領域]]\"\n"
     ]
    }
   ],
   "source": [
    "!cat data/chapter3/20.out | grep '\\[Category'"
   ]
  },
  {
   "cell_type": "markdown",
   "metadata": {},
   "source": [
    "### 22. カテゴリ名の抽出\n",
    "記事のカテゴリ名を（行単位ではなく名前で）抽出せよ．"
   ]
  },
  {
   "cell_type": "code",
   "execution_count": 12,
   "metadata": {},
   "outputs": [
    {
     "name": "stdout",
     "output_type": "stream",
     "text": [
      "イギリス\n",
      "イギリス連邦加盟国\n",
      "英連邦王国\n",
      "G8加盟国\n",
      "欧州連合加盟国元\n",
      "海洋国家\n",
      "現存する君主国\n",
      "島国\n",
      "1801年に成立した国家・領域\n"
     ]
    }
   ],
   "source": [
    "!cat data/chapter3/20.out | grep '\\[\\[Category' | sed -E 's/\\[\\[Category:(.*)]].?$/\\1/' | sed -e 's/[\\|\\*]//g'"
   ]
  },
  {
   "cell_type": "markdown",
   "metadata": {},
   "source": [
    "### 23. セクション構造\n",
    "記事中に含まれるセクション名とそのレベル（例えば”== セクション名 ==”なら1）を表示せよ．"
   ]
  },
  {
   "cell_type": "code",
   "execution_count": 50,
   "metadata": {},
   "outputs": [
    {
     "name": "stdout",
     "output_type": "stream",
     "text": [
      "国名:1\n",
      "歴史:1\n",
      "地理:1\n",
      "主要都市:2\n",
      "気候:2\n",
      "政治:1\n",
      "元首:2\n",
      "法:2\n",
      "内政:2\n",
      "地方行政区分:2\n",
      "外交・軍事:2\n",
      "経済:1\n",
      "鉱業:2\n",
      "農業:2\n",
      "貿易:2\n",
      "不動産:2\n",
      "エネルギー政策:2\n",
      "通貨:2\n",
      "企業:2\n",
      "通信:3\n",
      "交通:1\n",
      "道路:2\n",
      "鉄道:2\n",
      "海運:2\n",
      "航空:2\n",
      "科学技術:1\n",
      "国民:1\n",
      "言語:2\n",
      "宗教:2\n",
      "婚姻:2\n",
      "移住:2\n",
      "教育:2\n",
      "医療:2\n",
      "文化:1\n",
      "食文化:2\n",
      "文学:2\n",
      "哲学:2\n",
      "音楽:2\n",
      "ポピュラー音楽:3\n",
      "映画:2\n",
      "コメディ:2\n",
      "国花:2\n",
      "世界遺産:2\n",
      "祝祭日:2\n",
      "スポーツ:2\n",
      "サッカー:3\n",
      "クリケット:3\n",
      "競馬:3\n",
      "モータースポーツ:3\n",
      "野球:3\n",
      " カーリング :3\n",
      " 自転車競技 :3\n",
      "脚注:1\n",
      "関連項目:1\n",
      "外部リンク:1\n"
     ]
    }
   ],
   "source": [
    "import re\n",
    "\n",
    "with open('data/chapter3/20.out', 'r') as f:\n",
    "    string = ''.join(f.readlines())\n",
    "    pattern = r'(\\={2,})(.*?)\\={2,}'\n",
    "    n_labels = re.findall(pattern, string)\n",
    "    result = '\\n'.join([\"{0}:{1}\".format(x[1], len(x[0])-1) for x in n_labels])\n",
    "    print(result)\n"
   ]
  },
  {
   "cell_type": "markdown",
   "metadata": {},
   "source": [
    "### 24. ファイル参照の抽出\n",
    "記事から参照されているメディアファイルをすべて抜き出せ．"
   ]
  },
  {
   "cell_type": "code",
   "execution_count": null,
   "metadata": {},
   "outputs": [],
   "source": []
  }
 ],
 "metadata": {
  "kernelspec": {
   "display_name": "base",
   "language": "python",
   "name": "python3"
  },
  "language_info": {
   "codemirror_mode": {
    "name": "ipython",
    "version": 3
   },
   "file_extension": ".py",
   "mimetype": "text/x-python",
   "name": "python",
   "nbconvert_exporter": "python",
   "pygments_lexer": "ipython3",
   "version": "3.11.5"
  }
 },
 "nbformat": 4,
 "nbformat_minor": 2
}
