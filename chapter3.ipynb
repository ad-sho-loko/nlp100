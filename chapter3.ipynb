{
 "cells": [
  {
   "cell_type": "markdown",
   "metadata": {},
   "source": [
    "### 第3章: 正規表現\n",
    "Wikipediaの記事を以下のフォーマットで書き出したファイルjawiki-country.json.gzがある．\n",
    "\n",
    "1行に1記事の情報がJSON形式で格納される 各行には記事名が”title”キーに，記事本文が”text”キーの辞書オブジェクトに格納され，そのオブジェクトがJSON形式で書き出される ファイル全体はgzipで圧縮される 以下の処理を行うプログラムを作成せよ．"
   ]
  },
  {
   "cell_type": "code",
   "execution_count": 1,
   "metadata": {},
   "outputs": [
    {
     "name": "stdout",
     "output_type": "stream",
     "text": [
      "--2023-11-23 16:00:01--  https://nlp100.github.io/data/jawiki-country.json.gz\n",
      "Resolving nlp100.github.io (nlp100.github.io)... 185.199.110.153, 185.199.111.153, 185.199.108.153, ...\n",
      "Connecting to nlp100.github.io (nlp100.github.io)|185.199.110.153|:443... connected.\n",
      "HTTP request sent, awaiting response... 200 OK\n",
      "Length: 5068362 (4.8M) [application/gzip]\n",
      "Saving to: ‘data/chapter3/jawiki-country.json.gz’\n",
      "\n",
      "jawiki-country.json 100%[===================>]   4.83M  24.7MB/s    in 0.2s    \n",
      "\n",
      "2023-11-23 16:00:01 (24.7 MB/s) - ‘data/chapter3/jawiki-country.json.gz’ saved [5068362/5068362]\n",
      "\n"
     ]
    }
   ],
   "source": [
    "!mkdir -p data/chapter3 && wget -P data/chapter3/ https://nlp100.github.io/data/jawiki-country.json.gz\n",
    "!gunzip data/chapter3/jawiki-country.json.gz"
   ]
  },
  {
   "cell_type": "markdown",
   "metadata": {},
   "source": [
    "### 20. JSONデータの読み込み\n",
    "Wikipedia記事のJSONファイルを読み込み，「イギリス」に関する記事本文を表示せよ．問題21-29では，ここで抽出した記事本文に対して実行せよ．"
   ]
  },
  {
   "cell_type": "code",
   "execution_count": 2,
   "metadata": {},
   "outputs": [],
   "source": [
    "!cat data/chapter3/jawiki-country.json | jq 'select(.title==\"イギリス\")'  | jq '.text' | sed -e 's/\\\\n/\\n/g' > data/chapter3/20.out"
   ]
  },
  {
   "cell_type": "markdown",
   "metadata": {},
   "source": [
    "### 21. カテゴリ名を含む行を抽出\n",
    "記事中でカテゴリ名を宣言している行を抽出せよ．"
   ]
  },
  {
   "cell_type": "code",
   "execution_count": 11,
   "metadata": {},
   "outputs": [
    {
     "name": "stdout",
     "output_type": "stream",
     "text": [
      "[[Category:イギリス|*]]\n",
      "[[Category:イギリス連邦加盟国]]\n",
      "[[Category:英連邦王国|*]]\n",
      "[[Category:G8加盟国]]\n",
      "[[Category:欧州連合加盟国|元]]\n",
      "[[Category:海洋国家]]\n",
      "[[Category:現存する君主国]]\n",
      "[[Category:島国]]\n",
      "[[Category:1801年に成立した国家・領域]]\"\n"
     ]
    }
   ],
   "source": [
    "!cat data/chapter3/20.out | grep '\\[Category'"
   ]
  },
  {
   "cell_type": "markdown",
   "metadata": {},
   "source": [
    "### 22. カテゴリ名の抽出\n",
    "記事のカテゴリ名を（行単位ではなく名前で）抽出せよ．"
   ]
  },
  {
   "cell_type": "code",
   "execution_count": 12,
   "metadata": {},
   "outputs": [
    {
     "name": "stdout",
     "output_type": "stream",
     "text": [
      "イギリス\n",
      "イギリス連邦加盟国\n",
      "英連邦王国\n",
      "G8加盟国\n",
      "欧州連合加盟国元\n",
      "海洋国家\n",
      "現存する君主国\n",
      "島国\n",
      "1801年に成立した国家・領域\n"
     ]
    }
   ],
   "source": [
    "!cat data/chapter3/20.out | grep '\\[\\[Category' | sed -E 's/\\[\\[Category:(.*)]].?$/\\1/' | sed -e 's/[\\|\\*]//g'"
   ]
  },
  {
   "cell_type": "markdown",
   "metadata": {},
   "source": [
    "### 23. セクション構造\n",
    "記事中に含まれるセクション名とそのレベル（例えば”== セクション名 ==”なら1）を表示せよ．"
   ]
  },
  {
   "cell_type": "code",
   "execution_count": 50,
   "metadata": {},
   "outputs": [
    {
     "name": "stdout",
     "output_type": "stream",
     "text": [
      "国名:1\n",
      "歴史:1\n",
      "地理:1\n",
      "主要都市:2\n",
      "気候:2\n",
      "政治:1\n",
      "元首:2\n",
      "法:2\n",
      "内政:2\n",
      "地方行政区分:2\n",
      "外交・軍事:2\n",
      "経済:1\n",
      "鉱業:2\n",
      "農業:2\n",
      "貿易:2\n",
      "不動産:2\n",
      "エネルギー政策:2\n",
      "通貨:2\n",
      "企業:2\n",
      "通信:3\n",
      "交通:1\n",
      "道路:2\n",
      "鉄道:2\n",
      "海運:2\n",
      "航空:2\n",
      "科学技術:1\n",
      "国民:1\n",
      "言語:2\n",
      "宗教:2\n",
      "婚姻:2\n",
      "移住:2\n",
      "教育:2\n",
      "医療:2\n",
      "文化:1\n",
      "食文化:2\n",
      "文学:2\n",
      "哲学:2\n",
      "音楽:2\n",
      "ポピュラー音楽:3\n",
      "映画:2\n",
      "コメディ:2\n",
      "国花:2\n",
      "世界遺産:2\n",
      "祝祭日:2\n",
      "スポーツ:2\n",
      "サッカー:3\n",
      "クリケット:3\n",
      "競馬:3\n",
      "モータースポーツ:3\n",
      "野球:3\n",
      " カーリング :3\n",
      " 自転車競技 :3\n",
      "脚注:1\n",
      "関連項目:1\n",
      "外部リンク:1\n"
     ]
    }
   ],
   "source": [
    "import re\n",
    "\n",
    "with open('data/chapter3/20.out', 'r') as f:\n",
    "    string = ''.join(f.readlines())\n",
    "    pattern = r'(\\={2,})(.*?)\\={2,}'\n",
    "    n_labels = re.findall(pattern, string)\n",
    "    result = '\\n'.join([\"{0}:{1}\".format(x[1], len(x[0])-1) for x in n_labels])\n",
    "    print(result)\n"
   ]
  },
  {
   "cell_type": "markdown",
   "metadata": {},
   "source": [
    "### 24. ファイル参照の抽出\n",
    "記事から参照されているメディアファイルをすべて抜き出せ．"
   ]
  },
  {
   "cell_type": "code",
   "execution_count": 8,
   "metadata": {},
   "outputs": [
    {
     "name": "stdout",
     "output_type": "stream",
     "text": [
      "Royal Coat of Arms of the United Kingdom.svg\n",
      "Descriptio Prime Tabulae Europae.jpg\n",
      "Lenepveu, Jeanne d'Arc au siège d'Orléans.jpg\n",
      "London.bankofengland.arp.jpg\n",
      "Battle of Waterloo 1815.PNG\n",
      "Uk topo en.jpg\n",
      "BenNevis2005.jpg\n",
      "Population density UK 2011 census.png\n",
      "2019 Greenwich Peninsula & Canary Wharf.jpg\n",
      "Birmingham Skyline from Edgbaston Cricket Ground crop.jpg\n",
      "Leeds CBD at night.jpg\n",
      "Glasgow and the Clyde from the air (geograph 4665720).jpg\n",
      "Palace of Westminster, London - Feb 2007.jpg\n",
      "Scotland Parliament Holyrood.jpg\n",
      "Donald Trump and Theresa May (33998675310) (cropped).jpg\n",
      "Soldiers Trooping the Colour, 16th June 2007.jpg\n",
      "City of London skyline from London City Hall - Oct 2008.jpg\n",
      "Oil platform in the North SeaPros.jpg\n",
      "Eurostar at St Pancras Jan 2008.jpg\n",
      "Heathrow Terminal 5C Iwelumo-1.jpg\n",
      "Airbus A380-841 G-XLEB British Airways (10424102995).jpg\n",
      "UKpop.svg\n",
      "Anglospeak.svg\n",
      "Royal Aberdeen Children's Hospital.jpg\n",
      "CHANDOS3.jpg\n",
      "The Fabs.JPG\n",
      "Wembley Stadium, illuminated.jpg\n"
     ]
    }
   ],
   "source": [
    "import re\n",
    "\n",
    "with open('data/chapter3/20.out', 'r') as f:\n",
    "    string = ''.join(f.readlines())\n",
    "    pattern = r'\\[\\[ファイル:(.*?)\\|'\n",
    "    res = '\\n'.join(re.findall(pattern, string))\n",
    "    print(res)\n"
   ]
  },
  {
   "cell_type": "markdown",
   "metadata": {},
   "source": [
    "### 25. テンプレートの抽出\n",
    "記事中に含まれる「基礎情報」テンプレートのフィールド名と値を抽出し，辞書オブジェクトとして格納せよ．"
   ]
  },
  {
   "cell_type": "code",
   "execution_count": 163,
   "metadata": {},
   "outputs": [
    {
     "name": "stdout",
     "output_type": "stream",
     "text": [
      "略名:イギリス\n",
      "日本語国名:グレートブリテン及び北アイルランド連合王国\n",
      "公式国名:{{lang|en|UnitedKingdomofGreatBritainandNorthernIreland}}<ref>英語以外での正式国名:<br/>\n",
      "国旗画像:FlagoftheUnitedKingdom.svg\n",
      "国章画像:[[ファイル:RoyalCoatofArmsoftheUnitedKingdom.svg|85px|イギリスの国章]]\n",
      "国章リンク:（[[イギリスの国章|国章]]）\n",
      "標語:{{lang|fr|[[Dieuetmondroit]]}}<br/>（[[フランス語]]:[[Dieuetmondroit|神と我が権利]]）\n",
      "国歌:[[女王陛下万歳|{{lang|en|GodSavetheQueen}}]]{{enicon}}<br/>''神よ女王を護り賜え''<br/>{{center|[[ファイル:UnitedStatesNavyBand-GodSavetheQueen.ogg]]}}\n",
      "地図画像:Europe-UK.svg\n",
      "位置画像:UnitedKingdom(+overseasterritories)intheWorld(+Antarcticaclaims).svg\n",
      "公用語:[[英語]]\n",
      "首都:[[ロンドン]]（事実上）\n",
      "最大都市:ロンドン\n",
      "元首等肩書:[[イギリスの君主|女王]]\n",
      "元首等氏名:[[エリザベス2世]]\n",
      "首相等肩書:[[イギリスの首相|首相]]\n",
      "首相等氏名:[[ボリス・ジョンソン]]\n",
      "他元首等肩書1:[[貴族院(イギリス)|貴族院議長]]\n",
      "他元首等氏名1:[[:en:NormanFowler,BaronFowler|ノーマン・ファウラー]]\n",
      "他元首等肩書2:[[庶民院(イギリス)|庶民院議長]]\n",
      "他元首等氏名2:{{仮リンク|リンゼイ・ホイル|en|LindsayHoyle}}\n",
      "他元首等肩書3:[[連合王国最高裁判所|最高裁判所長官]]\n",
      "他元首等氏名3:[[:en:BrendaHale,BaronessHaleofRichmond|ブレンダ・ヘイル]]\n",
      "面積順位:76\n",
      "面積大きさ:1E11\n",
      "面積値:244,820\n",
      "水面積率:1.3%\n",
      "人口統計年:2018\n",
      "人口順位:22\n",
      "人口大きさ:1E7\n",
      "人口値:6643万5600<ref>{{Citeweb|url\n",
      "人口密度値:271\n",
      "GDP統計年元:2012\n",
      "GDP値元:1兆5478億<refname\n",
      "GDP統計年MER:2012\n",
      "GDP順位MER:6\n",
      "GDP値MER:2兆4337億<refname\n",
      "GDP統計年:2012\n",
      "GDP順位:6\n",
      "GDP値:2兆3162億<refname\n",
      "GDP/人:36,727<refname\n",
      "建国形態:建国\n",
      "確立形態1:[[イングランド王国]]／[[スコットランド王国]]<br/>（両国とも[[合同法(1707年)|1707年合同法]]まで）\n",
      "確立年月日1:927年／843年\n",
      "確立形態2:[[グレートブリテン王国]]成立<br/>（1707年合同法）\n",
      "確立年月日2:1707年{{0}}5月{{0}}1日\n",
      "確立形態3:[[グレートブリテン及びアイルランド連合王国]]成立<br/>（[[合同法(1800年)|1800年合同法]]）\n",
      "確立年月日3:1801年{{0}}1月{{0}}1日\n",
      "確立形態4:現在の国号「'''グレートブリテン及び北アイルランド連合王国'''」に変更\n",
      "確立年月日4:1927年{{0}}4月12日\n",
      "通貨:[[スターリング・ポンド|UKポンド]](£)\n",
      "通貨コード:GBP\n",
      "時間帯:±0\n",
      "夏時間:+1\n",
      "ISO3166-1:GB/GBR\n",
      "ccTLD:[[.uk]]/[[.gb]]<ref>使用は.ukに比べ圧倒的少数。</ref>\n",
      "国際電話番号:44\n",
      "注記:<references/>\n"
     ]
    }
   ],
   "source": [
    "import re\n",
    "\n",
    "with open('data/chapter3/20.out', 'r') as f:\n",
    "    string = ''.join(f.readlines())\n",
    "    pattern = r'^\\{\\{基礎情報 国(.*)^\\}\\}'\n",
    "    matched = ''.join(re.findall(pattern, string, re.MULTILINE + re.DOTALL))\\\n",
    "                .translate(str.maketrans({' ': '', '　': ''}))\\\n",
    "    \n",
    "    # (?:(?=\\n\\|)|(?=\\n)$)\n",
    "    # ?: 非キャプチャグループ。後続のOR（|）をグルーピングさせたいが、キャプチャはさせる必要はない。\n",
    "    # (?=\\n\\|) 最終行以外は '\\n|' を終端とする。ただし肯定先読み'?='を利用してそれ自体は次以降のマッチングにも利用する\n",
    "    # (?=\\n)$) 最終行のマッチング用\n",
    "    pattern = r'^\\|(.*?=.*?)(?:(?=\\n\\|)|(?=\\n)$)'\n",
    "    matched = re.findall(pattern, matched, re.MULTILINE + re.DOTALL)\n",
    "\n",
    "    res = {}\n",
    "    for s in matched:\n",
    "        splited = s.split('=')\n",
    "        res[splited[0]] = splited[1]\n",
    "        print(f'{splited[0]}:{splited[1]}')\n",
    "    \n"
   ]
  },
  {
   "cell_type": "markdown",
   "metadata": {},
   "source": [
    "### 26. 強調マークアップの除去\n",
    "25の処理時に，テンプレートの値からMediaWikiの強調マークアップ（弱い強調，強調，強い強調のすべて）を除去してテキストに変換せよ．"
   ]
  },
  {
   "cell_type": "code",
   "execution_count": 169,
   "metadata": {},
   "outputs": [
    {
     "name": "stdout",
     "output_type": "stream",
     "text": [
      "略名:イギリス\n",
      "日本語国名:グレートブリテン及び北アイルランド連合王国\n",
      "公式国名:{{lang|en|UnitedKingdomofGreatBritainandNorthernIreland}}<ref>英語以外での正式国名:<br/>\n",
      "国旗画像:FlagoftheUnitedKingdom.svg\n",
      "国章画像:[[ファイル:RoyalCoatofArmsoftheUnitedKingdom.svg|85px|イギリスの国章]]\n",
      "国章リンク:（[[イギリスの国章|国章]]）\n",
      "標語:{{lang|fr|[[Dieuetmondroit]]}}<br/>（[[フランス語]]:[[Dieuetmondroit|神と我が権利]]）\n",
      "国歌:[[女王陛下万歳|{{lang|en|GodSavetheQueen}}]]{{enicon}}<br/>神よ女王を護り賜え<br/>{{center|[[ファイル:UnitedStatesNavyBand-GodSavetheQueen.ogg]]}}\n",
      "地図画像:Europe-UK.svg\n",
      "位置画像:UnitedKingdom(+overseasterritories)intheWorld(+Antarcticaclaims).svg\n",
      "公用語:[[英語]]\n",
      "首都:[[ロンドン]]（事実上）\n",
      "最大都市:ロンドン\n",
      "元首等肩書:[[イギリスの君主|女王]]\n",
      "元首等氏名:[[エリザベス2世]]\n",
      "首相等肩書:[[イギリスの首相|首相]]\n",
      "首相等氏名:[[ボリス・ジョンソン]]\n",
      "他元首等肩書1:[[貴族院(イギリス)|貴族院議長]]\n",
      "他元首等氏名1:[[:en:NormanFowler,BaronFowler|ノーマン・ファウラー]]\n",
      "他元首等肩書2:[[庶民院(イギリス)|庶民院議長]]\n",
      "他元首等氏名2:{{仮リンク|リンゼイ・ホイル|en|LindsayHoyle}}\n",
      "他元首等肩書3:[[連合王国最高裁判所|最高裁判所長官]]\n",
      "他元首等氏名3:[[:en:BrendaHale,BaronessHaleofRichmond|ブレンダ・ヘイル]]\n",
      "面積順位:76\n",
      "面積大きさ:1E11\n",
      "面積値:244,820\n",
      "水面積率:1.3%\n",
      "人口統計年:2018\n",
      "人口順位:22\n",
      "人口大きさ:1E7\n",
      "人口値:6643万5600<ref>{{Citeweb|url\n",
      "人口密度値:271\n",
      "GDP統計年元:2012\n",
      "GDP値元:1兆5478億<refname\n",
      "GDP統計年MER:2012\n",
      "GDP順位MER:6\n",
      "GDP値MER:2兆4337億<refname\n",
      "GDP統計年:2012\n",
      "GDP順位:6\n",
      "GDP値:2兆3162億<refname\n",
      "GDP/人:36,727<refname\n",
      "建国形態:建国\n",
      "確立形態1:[[イングランド王国]]／[[スコットランド王国]]<br/>（両国とも[[合同法(1707年)|1707年合同法]]まで）\n",
      "確立年月日1:927年／843年\n",
      "確立形態2:[[グレートブリテン王国]]成立<br/>（1707年合同法）\n",
      "確立年月日2:1707年{{0}}5月{{0}}1日\n",
      "確立形態3:[[グレートブリテン及びアイルランド連合王国]]成立<br/>（[[合同法(1800年)|1800年合同法]]）\n",
      "確立年月日3:1801年{{0}}1月{{0}}1日\n",
      "確立形態4:現在の国号「グレートブリテン及び北アイルランド連合王国」に変更\n",
      "確立年月日4:1927年{{0}}4月12日\n",
      "通貨:[[スターリング・ポンド|UKポンド]](£)\n",
      "通貨コード:GBP\n",
      "時間帯:±0\n",
      "夏時間:+1\n",
      "ISO3166-1:GB/GBR\n",
      "ccTLD:[[.uk]]/[[.gb]]<ref>使用は.ukに比べ圧倒的少数。</ref>\n",
      "国際電話番号:44\n",
      "注記:<references/>\n"
     ]
    }
   ],
   "source": [
    "import re\n",
    "\n",
    "# 要: Q25 の res 変数の読み込み\n",
    "for k, v in res.items():\n",
    "    v = re.sub(r'\\'{2,5}', '', v)\n",
    "    print(f'{k}:{v}')\n"
   ]
  },
  {
   "cell_type": "markdown",
   "metadata": {},
   "source": [
    "### 27. 内部リンクの除去\n",
    "26の処理に加えて，テンプレートの値からMediaWikiの内部リンクマークアップを除去し，テキストに変換せよ．"
   ]
  },
  {
   "cell_type": "code",
   "execution_count": null,
   "metadata": {},
   "outputs": [],
   "source": []
  }
 ],
 "metadata": {
  "kernelspec": {
   "display_name": "base",
   "language": "python",
   "name": "python3"
  },
  "language_info": {
   "codemirror_mode": {
    "name": "ipython",
    "version": 3
   },
   "file_extension": ".py",
   "mimetype": "text/x-python",
   "name": "python",
   "nbconvert_exporter": "python",
   "pygments_lexer": "ipython3",
   "version": "3.11.5"
  }
 },
 "nbformat": 4,
 "nbformat_minor": 2
}
